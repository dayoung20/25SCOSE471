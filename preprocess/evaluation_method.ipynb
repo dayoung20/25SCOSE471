{
 "cells": [
  {
   "cell_type": "code",
   "id": "initial_id",
   "metadata": {
    "collapsed": true,
    "ExecuteTime": {
     "end_time": "2025-05-18T14:14:49.301897Z",
     "start_time": "2025-05-18T14:14:39.920315Z"
    }
   },
   "source": [
    "from sentence_transformers import SentenceTransformer\n",
    "import pandas as pd\n",
    "from sklearn.metrics.pairwise import cosine_similarity\n",
    "import numpy as np\n",
    "\n",
    "model = SentenceTransformer(\"sentence-transformers/paraphrase-multilingual-mpnet-base-v2\")"
   ],
   "outputs": [],
   "execution_count": 2
  },
  {
   "metadata": {
    "ExecuteTime": {
     "end_time": "2025-05-18T14:14:51.649543Z",
     "start_time": "2025-05-18T14:14:49.304416Z"
    }
   },
   "cell_type": "code",
   "source": [
    "with open(\"columns.txt\", \"r\", encoding=\"utf-8\") as f:\n",
    "    columns = f.read().split(\"\\n\")\n",
    "embeddings = model.encode(columns)"
   ],
   "id": "3b610b11fdc40506",
   "outputs": [],
   "execution_count": 3
  },
  {
   "metadata": {
    "ExecuteTime": {
     "end_time": "2025-05-18T14:16:27.105303Z",
     "start_time": "2025-05-18T14:16:26.867490Z"
    }
   },
   "cell_type": "code",
   "source": [
    "keywords = [\"시험 중간고사 기말고사\", \"attendance 출석\", \"과제 숙제 HW\", \"참여도 참석 참여 attendance\", \"발표 토론\", \"프로젝트 project\", \"협동 team\", \"보고서 essay\", \"실험\", \"태도\"]\n",
    "label = [\"시험\", \"출석\", \"과제\", \"참여도\", \"발표\", \"프로젝트\", \"협동\", \"보고서\", \"실험\", \"태도\", \"기타\"]\n",
    "\n",
    "# 3. 임베딩\n",
    "keyword_emb = model.encode(keywords)\n",
    "\n",
    "# 4. 유사도 계산 (각 필드 vs 각 키워드)\n",
    "similarities = cosine_similarity(embeddings, keyword_emb)\n",
    "max_indices = np.argmax(similarities, axis=1)\n",
    "max_values = np.max(similarities, axis=1)\n",
    "\n",
    "# 5. 가장 유사한 키워드의 index로 라벨링\n",
    "labels = []\n",
    "scores = []\n",
    "for idx, val in zip(max_indices, max_values):\n",
    "    if val >= 0.38:\n",
    "        labels.append(label[idx])\n",
    "    else:\n",
    "        labels.append(\"기타\")\n",
    "    scores.append(val)\n",
    "\n",
    "df = pd.DataFrame()\n",
    "df[\"field\"] = columns\n",
    "df[\"label\"] = labels\n",
    "df[\"scores\"] = scores"
   ],
   "id": "a038abc8a20f846a",
   "outputs": [],
   "execution_count": 8
  },
  {
   "metadata": {
    "ExecuteTime": {
     "end_time": "2025-05-18T14:16:27.666240Z",
     "start_time": "2025-05-18T14:16:27.658833Z"
    }
   },
   "cell_type": "code",
   "source": "df",
   "id": "a1ba53f809f581e5",
   "outputs": [
    {
     "data": {
      "text/plain": [
       "           field label    scores\n",
       "0             출석    출석  0.611375\n",
       "1             과제    시험  0.662664\n",
       "2           중간고사    시험  0.693817\n",
       "3           기말고사    시험  0.685169\n",
       "4             참여   참여도  0.789256\n",
       "...          ...   ...       ...\n",
       "4045     기말발표및과제    시험  0.639371\n",
       "4046   탐구발표 및 출석   참여도  0.672374\n",
       "4047   과제 및 탐구발표    실험  0.633757\n",
       "4048  4 Homework    과제  0.716719\n",
       "4049                태도  0.409567\n",
       "\n",
       "[4050 rows x 3 columns]"
      ],
      "text/html": [
       "<div>\n",
       "<style scoped>\n",
       "    .dataframe tbody tr th:only-of-type {\n",
       "        vertical-align: middle;\n",
       "    }\n",
       "\n",
       "    .dataframe tbody tr th {\n",
       "        vertical-align: top;\n",
       "    }\n",
       "\n",
       "    .dataframe thead th {\n",
       "        text-align: right;\n",
       "    }\n",
       "</style>\n",
       "<table border=\"1\" class=\"dataframe\">\n",
       "  <thead>\n",
       "    <tr style=\"text-align: right;\">\n",
       "      <th></th>\n",
       "      <th>field</th>\n",
       "      <th>label</th>\n",
       "      <th>scores</th>\n",
       "    </tr>\n",
       "  </thead>\n",
       "  <tbody>\n",
       "    <tr>\n",
       "      <th>0</th>\n",
       "      <td>출석</td>\n",
       "      <td>출석</td>\n",
       "      <td>0.611375</td>\n",
       "    </tr>\n",
       "    <tr>\n",
       "      <th>1</th>\n",
       "      <td>과제</td>\n",
       "      <td>시험</td>\n",
       "      <td>0.662664</td>\n",
       "    </tr>\n",
       "    <tr>\n",
       "      <th>2</th>\n",
       "      <td>중간고사</td>\n",
       "      <td>시험</td>\n",
       "      <td>0.693817</td>\n",
       "    </tr>\n",
       "    <tr>\n",
       "      <th>3</th>\n",
       "      <td>기말고사</td>\n",
       "      <td>시험</td>\n",
       "      <td>0.685169</td>\n",
       "    </tr>\n",
       "    <tr>\n",
       "      <th>4</th>\n",
       "      <td>참여</td>\n",
       "      <td>참여도</td>\n",
       "      <td>0.789256</td>\n",
       "    </tr>\n",
       "    <tr>\n",
       "      <th>...</th>\n",
       "      <td>...</td>\n",
       "      <td>...</td>\n",
       "      <td>...</td>\n",
       "    </tr>\n",
       "    <tr>\n",
       "      <th>4045</th>\n",
       "      <td>기말발표및과제</td>\n",
       "      <td>시험</td>\n",
       "      <td>0.639371</td>\n",
       "    </tr>\n",
       "    <tr>\n",
       "      <th>4046</th>\n",
       "      <td>탐구발표 및 출석</td>\n",
       "      <td>참여도</td>\n",
       "      <td>0.672374</td>\n",
       "    </tr>\n",
       "    <tr>\n",
       "      <th>4047</th>\n",
       "      <td>과제 및 탐구발표</td>\n",
       "      <td>실험</td>\n",
       "      <td>0.633757</td>\n",
       "    </tr>\n",
       "    <tr>\n",
       "      <th>4048</th>\n",
       "      <td>4 Homework</td>\n",
       "      <td>과제</td>\n",
       "      <td>0.716719</td>\n",
       "    </tr>\n",
       "    <tr>\n",
       "      <th>4049</th>\n",
       "      <td></td>\n",
       "      <td>태도</td>\n",
       "      <td>0.409567</td>\n",
       "    </tr>\n",
       "  </tbody>\n",
       "</table>\n",
       "<p>4050 rows × 3 columns</p>\n",
       "</div>"
      ]
     },
     "execution_count": 9,
     "metadata": {},
     "output_type": "execute_result"
    }
   ],
   "execution_count": 9
  },
  {
   "metadata": {
    "ExecuteTime": {
     "end_time": "2025-05-18T14:19:02.745586Z",
     "start_time": "2025-05-18T14:19:02.739076Z"
    }
   },
   "cell_type": "code",
   "source": [
    "import pickle\n",
    "\n",
    "field_to_label = dict(zip(df[\"field\"], df[\"label\"]))\n",
    "\n",
    "# pickle로 저장\n",
    "with open(\"./평가방식.pickle\", \"wb\") as f:\n",
    "    pickle.dump(field_to_label, f)"
   ],
   "id": "bad7bdb7c72d077",
   "outputs": [],
   "execution_count": 18
  },
  {
   "metadata": {},
   "cell_type": "code",
   "outputs": [],
   "execution_count": null,
   "source": "",
   "id": "cf07c9adafdd5148"
  }
 ],
 "metadata": {
  "kernelspec": {
   "display_name": "Python 3",
   "language": "python",
   "name": "python3"
  },
  "language_info": {
   "codemirror_mode": {
    "name": "ipython",
    "version": 2
   },
   "file_extension": ".py",
   "mimetype": "text/x-python",
   "name": "python",
   "nbconvert_exporter": "python",
   "pygments_lexer": "ipython2",
   "version": "2.7.6"
  }
 },
 "nbformat": 4,
 "nbformat_minor": 5
}
